{
 "cells": [
  {
   "cell_type": "markdown",
   "metadata": {
    "collapsed": true
   },
   "source": [
    "## CO2 data\n",
    "*** Historical CO2 Record from the Vostok Ice Core                          ***\n",
    "***                                                                         ***\n",
    "*** Source: J.M. Barnola                                                    ***\n",
    "***         D. Raynaud                                                      ***\n",
    "***         C. Lorius                                                       ***\n",
    "***         Laboratoire de Glaciologie et de Geophysique de l'Environnement ***\n",
    "***         38402 Saint Martin d'Heres Cedex, France                        ***\n",
    "***                                                                         ***\n",
    "***         N. I. Barkov                                                    ***\n",
    "***         Arctic and Antarctic Research Institute                         ***\n",
    "***         Beringa Street 38                                               ***\n",
    "***         St. Petersburg 199226, Russia                                   ***\n",
    "***                                                                         ***\n",
    "*** January 2003                                                             ***"
   ]
  },
  {
   "cell_type": "code",
   "execution_count": 19,
   "metadata": {},
   "outputs": [],
   "source": [
    "from astropy.io import ascii\n",
    "from PIL import Image\n",
    "import numpy as np\n",
    "import matplotlib.pyplot as plt\n",
    "%matplotlib inline"
   ]
  },
  {
   "cell_type": "code",
   "execution_count": 3,
   "metadata": {},
   "outputs": [],
   "source": [
    "coreDat = open('vostok.dat')"
   ]
  },
  {
   "cell_type": "code",
   "execution_count": 4,
   "metadata": {},
   "outputs": [],
   "source": [
    "year=[]\n",
    "co2=[]\n",
    "for line in coreDat:\n",
    "    elements = line.split()\n",
    "    if (len(elements)==4 and elements[0].replace('.','',1).isdigit()):\n",
    "        year.append(float(elements[2]))\n",
    "        co2.append(float(elements[3]))\n",
    "coreDat.close()        "
   ]
  },
  {
   "cell_type": "code",
   "execution_count": 5,
   "metadata": {},
   "outputs": [
    {
     "name": "stdout",
     "output_type": "stream",
     "text": [
      "2342.0 417160.0\n",
      "182.2 298.7\n"
     ]
    }
   ],
   "source": [
    "print(min(year),max(year))\n",
    "print(min(co2),max(co2))\n"
   ]
  },
  {
   "cell_type": "code",
   "execution_count": 6,
   "metadata": {},
   "outputs": [],
   "source": [
    "yearGrid=np.arange(2500,402500,500)\n",
    "co2Grid=np.interp(yearGrid,year,co2)"
   ]
  },
  {
   "cell_type": "code",
   "execution_count": 7,
   "metadata": {},
   "outputs": [
    {
     "data": {
      "text/plain": [
       "800"
      ]
     },
     "execution_count": 7,
     "metadata": {},
     "output_type": "execute_result"
    }
   ],
   "source": [
    "len(co2Grid)"
   ]
  },
  {
   "cell_type": "code",
   "execution_count": 22,
   "metadata": {},
   "outputs": [
    {
     "data": {
      "text/plain": [
       "(183.13109463584823, 298.26321022727274)"
      ]
     },
     "execution_count": 22,
     "metadata": {},
     "output_type": "execute_result"
    }
   ],
   "source": [
    "min(co2Grid), max(co2Grid)"
   ]
  },
  {
   "cell_type": "code",
   "execution_count": 9,
   "metadata": {},
   "outputs": [],
   "source": [
    "co2Texture = Image.new(\"RGB\",(800,1))"
   ]
  },
  {
   "cell_type": "code",
   "execution_count": 14,
   "metadata": {},
   "outputs": [],
   "source": [
    "r = np.array([])\n",
    "g = np.array([])\n",
    "for i,co2Val in enumerate(co2Grid):\n",
    "    valR=max(0,int(co2Val)-100)\n",
    "    valG=int(256.0*(float(co2Val)-np.floor(float(co2Val))))\n",
    "    r = np.append(r,valR)\n",
    "    g = np.append(g,valG)\n",
    "    co2Texture.putpixel((i,0),(valR,valG,0))"
   ]
  },
  {
   "cell_type": "code",
   "execution_count": 11,
   "metadata": {},
   "outputs": [
    {
     "data": {
      "image/png": "[encoded data removed]",
      "text/plain": [
       "<PIL.Image.Image image mode=RGB size=800x1 at 0x23700976CC0>"
      ]
     },
     "execution_count": 11,
     "metadata": {},
     "output_type": "execute_result"
    }
   ],
   "source": [
    "co2Texture"
   ]
  },
  {
   "cell_type": "code",
   "execution_count": 12,
   "metadata": {},
   "outputs": [],
   "source": [
    "co2Texture.save('../data/vostok.png')"
   ]
  },
  {
   "cell_type": "code",
   "execution_count": 26,
   "metadata": {},
   "outputs": [
    {
     "data": {
      "text/plain": [
       "[<matplotlib.lines.Line2D at 0x2370354e7f0>]"
      ]
     },
     "execution_count": 26,
     "metadata": {},
     "output_type": "execute_result"
    },
    {
     "data": {
      "image/png": "[encoded data removed]",
      "text/plain": [
       "<matplotlib.figure.Figure at 0x23701ea8588>"
      ]
     },
     "metadata": {},
     "output_type": "display_data"
    }
   ],
   "source": [
    "#plt.plot(r + 100 + g/256., co2Grid)\n",
    "plt.plot(-np.array(year), co2)"
   ]
  },
  {
   "cell_type": "code",
   "execution_count": null,
   "metadata": {},
   "outputs": [],
   "source": []
  }
 ],
 "metadata": {
  "anaconda-cloud": {},
  "kernelspec": {
   "display_name": "Python 3",
   "language": "python",
   "name": "python3"
  },
  "language_info": {
   "codemirror_mode": {
    "name": "ipython",
    "version": 3
   },
   "file_extension": ".py",
   "mimetype": "text/x-python",
   "name": "python",
   "nbconvert_exporter": "python",
   "pygments_lexer": "ipython3",
   "version": "3.6.4"
  }
 },
 "nbformat": 4,
 "nbformat_minor": 1
}
