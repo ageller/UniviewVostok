{
 "cells": [
  {
   "cell_type": "markdown",
   "metadata": {},
   "source": [
    "### Imports and function definitions"
   ]
  },
  {
   "cell_type": "code",
   "execution_count": 1,
   "metadata": {},
   "outputs": [],
   "source": [
    "#This directory contains all the data needed for the module. It should be in the same directory as the notebook\n",
    "dataFolder = \"data\"\n",
    "\n",
    "\n",
    "import sys, os, shutil, errno, string, urllib\n",
    "\n",
    "\n",
    "sys.path.append(( os.path.abspath( os.path.join(os.path.realpath(\"__file__\"),  os.pardir, os.pardir) )))\n",
    "P = \"C:\\\\Users\\\\Aaron Geller\\\\SCISS\\\\modulesbuilder\"\n",
    "sys.path.append(P)\n",
    "import uvmodlib.v1 as uvmod"
   ]
  },
  {
   "cell_type": "markdown",
   "metadata": {},
   "source": [
    "### USES Conf Templates"
   ]
  },
  {
   "cell_type": "code",
   "execution_count": 62,
   "metadata": {},
   "outputs": [],
   "source": [
    "Template = \"\"\"mesh\n",
    "{  \n",
    "    data  sphere ./modules/$folderName/sphere.obj\n",
    "    cullRadius $cr\n",
    "    glslVersion 330\n",
    "    \n",
    "    propertyCollection \n",
    "    {        \n",
    "        __objectName__\n",
    "        { \n",
    "            vec1f simUseTime  402500  | public | desc \"year BCE\" | widget slider | range  2500 402500\n",
    "            vec1f ntAve 50\n",
    "            vec1f tAveRange 20000\n",
    "            vec1f CO2lim 0.2 | public | desc \"red CO2\" | widget slider | range  0 1\n",
    "            bool showCO2 true \n",
    "            vec1f dy 0.001\n",
    "        }\n",
    "    }\n",
    "\n",
    "\n",
    "    pass\n",
    "    {\n",
    "        useDataObject sphere\n",
    "        shader\n",
    "        {\n",
    "            type defaultMeshShader\n",
    "            {\n",
    "                vertexShader   ./modules/$folderName/vostok.vs\n",
    "                fragmentShader ./modules/$folderName/vostok.fs\n",
    "                stateManagerVar __objectName__.Alpha        uv_alpha\n",
    "                stateManagerVar __objectName__.simUseTime simUseTime\n",
    "                stateManagerVar __objectName__.ntAve ntAve\n",
    "                stateManagerVar __objectName__.tAveRange tAveRange\n",
    "                stateManagerVar __objectName__.showCO2 showCO2\n",
    "                stateManagerVar __objectName__.CO2lim CO2lim\n",
    "                stateManagerVar __objectName__.dy dy\n",
    "\n",
    "                parameter1f nFrames 30\n",
    "                parameter2f CO2range 183.13 298.26\n",
    "                parameter2f timerange 2500 402500\n",
    "\n",
    "                texture glacierTex ./modules/$folderName/IceAge_2048.dds\n",
    "                {\n",
    "                    #Return 0 0 0 if trying to access a point outside of the dataset\n",
    "                    wrapModeT GL_CLAMP_TO_BORDER\n",
    "                    magnify GL_NEAREST\n",
    "                    minify GL_NEAREST\n",
    "                }\n",
    "                texture CO2Tex ./modules/$folderName/vostok.png\n",
    "                {\n",
    "                    colorspace linear\n",
    "                }  \n",
    "                glState\n",
    "                {\n",
    "                    UV_CULL_FACE_ENABLE false\n",
    "                    #UV_CULL_MODE GL_FRONT\n",
    "                    UV_BLEND_ENABLE true\n",
    "                    UV_BLEND_FUNC GL_SRC_ALPHA GL_ONE_MINUS_SRC_ALPHA\n",
    "                }\n",
    "            }\n",
    "\n",
    "        }    \n",
    "    }\n",
    "    \n",
    "}\"\"\""
   ]
  },
  {
   "cell_type": "markdown",
   "metadata": {},
   "source": [
    "### Vostok Class"
   ]
  },
  {
   "cell_type": "code",
   "execution_count": 63,
   "metadata": {},
   "outputs": [],
   "source": [
    "class Vostok():\n",
    "    def __init__(self, object):\n",
    "        self.object = object\n",
    "        uvmod.Utility.ensurerelativepathexsists(\"sphere.obj\",dataFolder)\n",
    "        uvmod.Utility.ensurerelativepathexsists(\"vostok.vs\",dataFolder)\n",
    "        uvmod.Utility.ensurerelativepathexsists(\"vostok.fs\",dataFolder)\n",
    "        self.Scale = 1\n",
    "        self.cr = 1000\n",
    "    def setScale(self,Scale):\n",
    "        self.Scale = Scale\n",
    "    def generatemod(self):\n",
    "        self.object.setgeometry(self.object.name+\"Mesh.usesconf\")\n",
    "        return self.object.generatemod()\n",
    "    def generatefiles(self, absOutDir, relOutDir):\n",
    "        fileName = self.object.name+\"Mesh.usesconf\"\n",
    "        s = string.Template(Template)\n",
    "        f = open(absOutDir+\"\\\\\"+fileName, 'w')\n",
    "        if f:\n",
    "            f.write(s.substitute(folderName = relOutDir,\n",
    "                                 cr = self.cr,\n",
    "                                 Scale = self.Scale,\n",
    "                                ))\n",
    "            f.close()\n",
    "        uvmod.Utility.copyfoldercontents(os.getcwd()+\"\\\\\"+dataFolder, absOutDir)"
   ]
  },
  {
   "cell_type": "markdown",
   "metadata": {},
   "source": [
    "### Object Instantiation"
   ]
  },
  {
   "cell_type": "code",
   "execution_count": 64,
   "metadata": {},
   "outputs": [],
   "source": [
    "model = Vostok(uvmod.OrbitalObject())\n",
    "generator = uvmod.Generator()\n",
    "scene = uvmod.Scene()\n",
    "modinfo = uvmod.ModuleInformation()"
   ]
  },
  {
   "cell_type": "markdown",
   "metadata": {},
   "source": [
    "### Specify Settings and generate the module"
   ]
  },
  {
   "cell_type": "code",
   "execution_count": 65,
   "metadata": {},
   "outputs": [],
   "source": [
    "model.object.setcameraradius(10)\n",
    "model.object.setcoord(\"Earth\")\n",
    "model.object.setname(\"VostokIceAges\")\n",
    "model.object.setguiname(\"/KavliLecture/Schrag/Vostok Ice Ages\")\n",
    "model.object.settargetradius(2000)\n",
    "model.object.setscalefactor(655.0)\n",
    "model.object.showatstartup(False)\n",
    "model.object.custom = \"bin 9999\"\n",
    "model.object.custom += \"\"\"\n",
    "    rotation\n",
    "\t{\n",
    "\t\tspice\n",
    "\t\t{\n",
    "\t\t\tframe\t\tIAU_EARTH \n",
    "\t\t\treference\tECLIPJ2000\n",
    "\t\t}\n",
    "\t}\"\"\"\n",
    "\n",
    "model.cr = 10000\n",
    "\n",
    "\n",
    "modinfo.setname(\"Vostok Ice Ages \")\n",
    "modinfo.setauthor(\"Aaron Geller<sup>1</sup>, Mark SubbaRao<sup>1</sup>, Daniel Schragg<sup>2</sup>, and Alex Griswald<sup>2</sup><br />(1)Adler Planetarium,<br />(2)Harvard University .\")\n",
    "modinfo.cleardependencies()\n",
    "modinfo.adddependency(\"Earth\")\n",
    "modinfo.setdesc(\"Vostok Ice core data used to animate Ice Ages\")\n",
    "#modinfo.setthumbnail(\"data/thumb.png\")\n",
    "modinfo.setversion(\"1.0\")\n",
    "generator.generate(\"VostokIceAges\",[],[model],modinfo)\n",
    "uvmod.Utility.senduvcommand(model.object.name+\".reload\")"
   ]
  },
  {
   "cell_type": "markdown",
   "metadata": {},
   "source": [
    "### Helper Functions for modifing code\n",
    "##### Reload Module and Shaders in Uniview"
   ]
  },
  {
   "cell_type": "code",
   "execution_count": 6,
   "metadata": {},
   "outputs": [
    {
     "name": "stdout",
     "output_type": "stream",
     "text": [
      "Unable to connect to Uniview\n"
     ]
    }
   ],
   "source": [
    "uvmod.Utility.senduvcommand(model.object.name+\".reload\")"
   ]
  },
  {
   "cell_type": "markdown",
   "metadata": {},
   "source": [
    "Copy modified Shader files and reload"
   ]
  },
  {
   "cell_type": "code",
   "execution_count": 7,
   "metadata": {},
   "outputs": [],
   "source": [
    "from config import Settings\n"
   ]
  },
  {
   "cell_type": "code",
   "execution_count": 220,
   "metadata": {
    "scrolled": false
   },
   "outputs": [],
   "source": [
    "uvmod.Utility.copyfoldercontents(os.getcwd()+\"\\\\\"+dataFolder, Settings.uvcustommodulelocation+'\\\\'+model.object.name)\n",
    "uvmod.Utility.senduvcommand(model.object.name+\".reload\")"
   ]
  },
  {
   "cell_type": "code",
   "execution_count": null,
   "metadata": {},
   "outputs": [],
   "source": []
  }
 ],
 "metadata": {
  "anaconda-cloud": {},
  "kernelspec": {
   "display_name": "Python 3",
   "language": "python",
   "name": "python3"
  },
  "language_info": {
   "codemirror_mode": {
    "name": "ipython",
    "version": 3
   },
   "file_extension": ".py",
   "mimetype": "text/x-python",
   "name": "python",
   "nbconvert_exporter": "python",
   "pygments_lexer": "ipython3",
   "version": "3.6.4"
  }
 },
 "nbformat": 4,
 "nbformat_minor": 1
}
